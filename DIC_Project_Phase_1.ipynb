{
 "cells": [
  {
   "cell_type": "markdown",
   "id": "ac0bb664-856d-4a14-b4e4-5666995d904b",
   "metadata": {},
   "source": [
    "# **Phase 1**"
   ]
  },
  {
   "cell_type": "markdown",
   "id": "52260d8a-4143-4015-837e-c29afe75cf43",
   "metadata": {},
   "source": [
    "## **1: Problem Statement**"
   ]
  },
  {
   "cell_type": "markdown",
   "id": "dca92e15-ba69-4b95-991b-e1f1de009e8c",
   "metadata": {},
   "source": [
    "### **1.1.1 Problem Statement**\n",
    "This project’s goal is to make a detailed analysis on why road accidents are occurring a lot and in what trend, will be helpful in improving road safety measures & make the policy options which can reduce the number of accidents. This research would help to know the impacts of accident severity on the driver attributes, vehicle conditions, surface conditions and environmental conditions."
   ]
  },
  {
   "cell_type": "markdown",
   "id": "873151ef-b828-49d9-b8d5-ee18e6168b58",
   "metadata": {},
   "source": [
    "### **1.1.2 Potential Contribution & Importance**\n",
    "Road accidents pose a threat to health globally by resulting in significant fatalities and injuries of individuals worldwide. This evaluation plays a role in finding factors that play a vital role in accident prevention. The evidence of this review may support the implementation of measures of safety, improvement of driver education programs, and modification of road systems that can reduce accidents and save lives."
   ]
  },
  {
   "cell_type": "markdown",
   "id": "55bdf283-39fe-4817-a0e7-ddddf0c4332f",
   "metadata": {},
   "source": [
    "## **2: Ask Questions**"
   ]
  },
  {
   "cell_type": "markdown",
   "id": "f6673e80-28a9-4f60-9f47-fb377c0dbe33",
   "metadata": {},
   "source": [
    "### Bhuvan Thirwani: "
   ]
  },
  {
   "cell_type": "markdown",
   "id": "2fef1c7b-7428-44df-9ea3-e2ea2f5ca43a",
   "metadata": {},
   "source": [
    "#### Question 1:"
   ]
  },
  {
   "cell_type": "markdown",
   "id": "97105107-a062-4419-a5d3-d0bf30dded76",
   "metadata": {},
   "source": [
    "#### Question 2:"
   ]
  },
  {
   "cell_type": "markdown",
   "id": "53af2d0c-9ba3-4c25-9ed3-20cb663ccf5a",
   "metadata": {},
   "source": [
    "#### Harshit Malpani: 50608809"
   ]
  },
  {
   "cell_type": "markdown",
   "id": "d2e1e823-1e93-48ca-856c-5b79137ffaa0",
   "metadata": {},
   "source": [
    "#### Question 1:"
   ]
  },
  {
   "cell_type": "markdown",
   "id": "d916f98e-2a91-4a50-9583-abbb7c8bd08a",
   "metadata": {},
   "source": [
    "#### Question 2:"
   ]
  },
  {
   "cell_type": "markdown",
   "id": "22ad6f84-4abc-4109-bdf5-e4cba2a1fe7a",
   "metadata": {},
   "source": [
    "#### Piyush Gulhane: "
   ]
  },
  {
   "cell_type": "markdown",
   "id": "dc6839be-e259-4abb-a83d-6f435903f019",
   "metadata": {},
   "source": [
    "#### Question 1:"
   ]
  },
  {
   "cell_type": "markdown",
   "id": "3a877fb9-2594-49a4-b936-9012a56b7464",
   "metadata": {},
   "source": [
    "#### Question 2:"
   ]
  },
  {
   "cell_type": "markdown",
   "id": "3b68c20b-95d0-4f20-998d-fdc8618db12a",
   "metadata": {},
   "source": [
    "## **3: Data Retrieval**"
   ]
  },
  {
   "cell_type": "markdown",
   "id": "9d340bcd-03f5-4c58-bc29-9b8b6be9735a",
   "metadata": {},
   "source": [
    "## **4: Data Cleaning**"
   ]
  },
  {
   "cell_type": "markdown",
   "id": "79d220bf-a736-4b46-a0d8-e3de8e618977",
   "metadata": {},
   "source": [
    "## **5: Exploratory Data Analysis (EDA)**"
   ]
  },
  {
   "cell_type": "markdown",
   "id": "30c8a639-4ea4-42aa-bb3a-e6817ad402d6",
   "metadata": {},
   "source": [
    "### Bhuvan Thirwani: "
   ]
  },
  {
   "cell_type": "markdown",
   "id": "0f1a44c5-a967-4ef7-96ca-ec96089edea9",
   "metadata": {},
   "source": [
    "#### Question 1:"
   ]
  },
  {
   "cell_type": "markdown",
   "id": "3e16d7b3-690c-4693-a129-1dc3603ac784",
   "metadata": {},
   "source": [
    "#### Question 2:"
   ]
  },
  {
   "cell_type": "markdown",
   "id": "edb6e773-7068-42fd-bc4c-c26d9bc5d4a3",
   "metadata": {},
   "source": [
    "### Harshit Malpani: 50608809"
   ]
  },
  {
   "cell_type": "markdown",
   "id": "a94db509-be7d-4752-88ce-5060089d16b9",
   "metadata": {},
   "source": [
    "#### Question 1:"
   ]
  },
  {
   "cell_type": "markdown",
   "id": "29241931-f06f-4643-93a5-1c8d30f770aa",
   "metadata": {},
   "source": [
    "#### Question 2:"
   ]
  },
  {
   "cell_type": "markdown",
   "id": "e87367bf-2416-4a3d-8afd-5b9a73863fe4",
   "metadata": {},
   "source": [
    "### Piyush Gulhane:"
   ]
  },
  {
   "cell_type": "markdown",
   "id": "b2adb868-01f6-4397-ab74-307e6333d627",
   "metadata": {},
   "source": [
    "#### Question 1:"
   ]
  },
  {
   "cell_type": "markdown",
   "id": "d3adae6c-0f0d-41e5-b58c-ceb7e522463f",
   "metadata": {},
   "source": [
    "#### Question 2:"
   ]
  },
  {
   "cell_type": "code",
   "execution_count": null,
   "id": "80b7d5a7-1ca3-43d4-8a6e-f647ce729f3c",
   "metadata": {},
   "outputs": [],
   "source": []
  }
 ],
 "metadata": {
  "kernelspec": {
   "display_name": "Python 3 (ipykernel)",
   "language": "python",
   "name": "python3"
  },
  "language_info": {
   "codemirror_mode": {
    "name": "ipython",
    "version": 3
   },
   "file_extension": ".py",
   "mimetype": "text/x-python",
   "name": "python",
   "nbconvert_exporter": "python",
   "pygments_lexer": "ipython3",
   "version": "3.9.6"
  }
 },
 "nbformat": 4,
 "nbformat_minor": 5
}
